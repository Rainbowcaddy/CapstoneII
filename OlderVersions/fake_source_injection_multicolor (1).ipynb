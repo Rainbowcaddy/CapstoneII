{
 "cells": [
  {
   "cell_type": "markdown",
   "id": "40ce4a79-6afd-4306-937d-5acad040ad1a",
   "metadata": {},
   "source": [
    "# Injecting and Measuring Artificial Stars in Single-Visit Images\n",
    "\n",
    "Jeff Carlin <br>\n",
    "Last verified to run Monday, April 26, 2022, with weekly 2022_12.\n",
    "\n",
    "Recommended container size: large (or possibly medium; small will definitely run out of memory and kill the kernel).\n",
    "\n",
    "This tutorial demonstrates a method to inject artificial stars into `calexp` images using the measured point-spread function of the given `calexp` image. It then shows how to run the pipelines' detection and measurement tasks on these images, extract the measurements of the artificial stars, and compare their measured magnitudes to the input (simulated) magnitudes.\n",
    "\n",
    "#### Prerequisites\n",
    "\n",
    "This tutorial assumes familiarity with afwDisplay, the Butler, and source detection with the LSST Science Pipelines.\n",
    "Relevant tutorials can be found in the <a href=\"https://github.com/rubin-dp0/tutorial-notebooks\">rubin-dp0/tutorial-notebooks</a> repository.\n",
    "(For image display, see NBs 03a, 03b, and 08a; for the Butler, see NB 04; and for source detection, see NB 05).\n",
    "\n",
    "## Introduction\n",
    "\n",
    "This tutorial shows a way to use existing tools in the LSST Science Pipelines to inject artificial stars into processed single-visit images (\"calexps\"), then run the detection and measurement tasks to test the recovery of these stars and their (known) properties. In this particular notebook, the focus is on inserting _stars_ into the images because that is the simplest operation (requiring only a position and a flux/magnitude). However, the tools do exist to insert simulated galaxies (based on parameters describing their light distribution), or to insert images (for example, an image of a simulated galaxy cluster) into processed data. See <a href=\"https://community.lsst.org/t/new-tasks-for-fake-source-insertion/3722\">this post</a> on the Community forum for an introduction to the current fake source injection tasks.\n",
    "\n",
    "**NOTE**: The task that is used in this notebook to create fake stars will soon be deprecated and removed from the Science Pipelines, and its replacement tasks (discussed in the Community forum post linked above) will also soon be replaced with refactored and improved tasks. Once the new synthetic source code has arrived, this notebook should be updated to use the newer tasks.\n",
    "\n",
    "<br>\n"
   ]
  },
  {
   "cell_type": "markdown",
   "id": "0e40a8ba-393d-45a2-bb2a-ebfbb03c514e",
   "metadata": {},
   "source": [
    "The workflow in this notebook is as follows:\n",
    "\n",
    "1. Starting with an RA, Dec position, find all single-visit images that overlap that position.\n",
    "    - (For this tutorial, we select only a single visit image from each band.)\n",
    "2. Given positions and input magnitudes for fake stars (in _ugri_ bands), figure out what the X, Y positions and fluxes should be in each image.\n",
    "3. Inject those stars into the appropriate images with the X, Y positions and fluxes as calculated in the previous step, using the measured PSF for each individual image to create stellar images.\n",
    "4. Run all processing steps (characterization, calibration, detection, deblending, measurement) on each image that fake stars were inserted into.\n",
    "5. Compare the measured positions and fluxes/mags to the input synthetic values.\n",
    "\n",
    "## Set Up\n",
    "\n",
    "#### Import packages."
   ]
  },
  {
   "cell_type": "code",
   "execution_count": 7,
   "id": "42187a4e",
   "metadata": {
    "execution": {
     "iopub.execute_input": "2023-10-03T17:14:48.667466Z",
     "iopub.status.busy": "2023-10-03T17:14:48.667143Z",
     "iopub.status.idle": "2023-10-03T17:14:49.824213Z",
     "shell.execute_reply": "2023-10-03T17:14:49.823464Z",
     "shell.execute_reply.started": "2023-10-03T17:14:48.667443Z"
    },
    "tags": []
   },
   "outputs": [],
   "source": [
    "# Import python packages\n",
    "import time\n",
    "import os\n",
    "import warnings\n",
    "import numpy as np\n",
    "import matplotlib as mpl\n",
    "import matplotlib.pyplot as plt\n",
    "from IPython.display import IFrame, display, Markdown\n",
    "from mpl_toolkits.axes_grid1 import make_axes_locatable\n",
    "from matplotlib.patches import Rectangle\n",
    "from astropy.visualization import ZScaleInterval\n",
    "from astropy.coordinates import SkyCoord\n",
    "import astropy.units as u\n",
    "from astropy.table import Table\n",
    "\n",
    "%matplotlib inline"
   ]
  },
  {
   "cell_type": "code",
   "execution_count": 8,
   "id": "1c9fbfe1-296c-4980-80c0-4b2b8efca6ed",
   "metadata": {
    "execution": {
     "iopub.execute_input": "2023-10-03T17:14:49.869190Z",
     "iopub.status.busy": "2023-10-03T17:14:49.868963Z",
     "iopub.status.idle": "2023-10-03T17:15:07.466058Z",
     "shell.execute_reply": "2023-10-03T17:15:07.465132Z",
     "shell.execute_reply.started": "2023-10-03T17:14:49.869172Z"
    },
    "tags": []
   },
   "outputs": [],
   "source": [
    "# Import tasks from the LSST Science Pipelines for reprocessing images\n",
    "from lsst.pipe.tasks.characterizeImage import CharacterizeImageTask\n",
    "from lsst.pipe.tasks.calibrate import CalibrateTask\n",
    "from lsst.meas.algorithms.detection import SourceDetectionTask\n",
    "from lsst.meas.deblender import SourceDeblendTask\n",
    "from lsst.meas.base import SingleFrameMeasurementTask"
   ]
  },
  {
   "cell_type": "code",
   "execution_count": 9,
   "id": "a0868985",
   "metadata": {
    "execution": {
     "iopub.execute_input": "2023-10-03T17:15:07.468349Z",
     "iopub.status.busy": "2023-10-03T17:15:07.467468Z",
     "iopub.status.idle": "2023-10-03T17:15:07.577660Z",
     "shell.execute_reply": "2023-10-03T17:15:07.576754Z",
     "shell.execute_reply.started": "2023-10-03T17:15:07.468320Z"
    },
    "tags": []
   },
   "outputs": [
    {
     "ename": "ModuleNotFoundError",
     "evalue": "No module named 'lsst.pipe.tasks.fakes'",
     "output_type": "error",
     "traceback": [
      "\u001b[0;31m---------------------------------------------------------------------------\u001b[0m",
      "\u001b[0;31mModuleNotFoundError\u001b[0m                       Traceback (most recent call last)",
      "Cell \u001b[0;32mIn[9], line 8\u001b[0m\n\u001b[1;32m      6\u001b[0m \u001b[38;5;28;01mimport\u001b[39;00m \u001b[38;5;21;01mlsst\u001b[39;00m\u001b[38;5;21;01m.\u001b[39;00m\u001b[38;5;21;01mafw\u001b[39;00m\u001b[38;5;21;01m.\u001b[39;00m\u001b[38;5;21;01mtable\u001b[39;00m \u001b[38;5;28;01mas\u001b[39;00m \u001b[38;5;21;01mafwTable\u001b[39;00m\n\u001b[1;32m      7\u001b[0m \u001b[38;5;28;01mimport\u001b[39;00m \u001b[38;5;21;01mlsst\u001b[39;00m\u001b[38;5;21;01m.\u001b[39;00m\u001b[38;5;21;01mgeom\u001b[39;00m \u001b[38;5;28;01mas\u001b[39;00m \u001b[38;5;21;01mgeom\u001b[39;00m\n\u001b[0;32m----> 8\u001b[0m \u001b[38;5;28;01mimport\u001b[39;00m \u001b[38;5;21;01mlsst\u001b[39;00m\u001b[38;5;21;01m.\u001b[39;00m\u001b[38;5;21;01mpipe\u001b[39;00m\u001b[38;5;21;01m.\u001b[39;00m\u001b[38;5;21;01mtasks\u001b[39;00m\u001b[38;5;21;01m.\u001b[39;00m\u001b[38;5;21;01mfakes\u001b[39;00m \u001b[38;5;28;01mas\u001b[39;00m \u001b[38;5;21;01mfakes\u001b[39;00m\n\u001b[1;32m     10\u001b[0m \u001b[38;5;66;03m# Use lsst.afw.display with the matplotlib backend\u001b[39;00m\n\u001b[1;32m     11\u001b[0m afwDisplay\u001b[38;5;241m.\u001b[39msetDefaultBackend(\u001b[38;5;124m'\u001b[39m\u001b[38;5;124mmatplotlib\u001b[39m\u001b[38;5;124m'\u001b[39m)\n",
      "\u001b[0;31mModuleNotFoundError\u001b[0m: No module named 'lsst.pipe.tasks.fakes'"
     ]
    }
   ],
   "source": [
    "# Import LSST Science Pipelines packages (see pipelines.lsst.io)\n",
    "import lsst.daf.base as dafBase\n",
    "from lsst.daf.butler import Butler\n",
    "import lsst.afw.image as afwImage\n",
    "import lsst.afw.display as afwDisplay\n",
    "import lsst.afw.table as afwTable\n",
    "import lsst.geom as geom\n",
    "import lsst.pipe.tasks.fakes as fakes\n",
    "\n",
    "# Use lsst.afw.display with the matplotlib backend\n",
    "afwDisplay.setDefaultBackend('matplotlib')"
   ]
  },
  {
   "cell_type": "code",
   "execution_count": 7,
   "id": "d8094618-1aef-4e41-b8e6-992aecbe5961",
   "metadata": {
    "execution": {
     "iopub.execute_input": "2023-10-03T16:54:54.814487Z",
     "iopub.status.busy": "2023-10-03T16:54:54.813760Z",
     "iopub.status.idle": "2023-10-03T16:54:54.819734Z",
     "shell.execute_reply": "2023-10-03T16:54:54.818587Z",
     "shell.execute_reply.started": "2023-10-03T16:54:54.814453Z"
    },
    "tags": []
   },
   "outputs": [],
   "source": [
    "# Set up some plotting defaults:\n",
    "\n",
    "params = {'axes.labelsize': 28,\n",
    "          'font.size': 24,\n",
    "          'legend.fontsize': 14,\n",
    "          'xtick.major.width': 3,\n",
    "          'xtick.minor.width': 2,\n",
    "          'xtick.major.size': 12,\n",
    "          'xtick.minor.size': 6,\n",
    "          'xtick.direction': 'in',\n",
    "          'xtick.top': True,\n",
    "          'lines.linewidth': 3,\n",
    "          'axes.linewidth': 3,\n",
    "          'axes.labelweight': 3,\n",
    "          'axes.titleweight': 3,\n",
    "          'ytick.major.width': 3,\n",
    "          'ytick.minor.width': 2,\n",
    "          'ytick.major.size': 12,\n",
    "          'ytick.minor.size': 6,\n",
    "          'ytick.direction': 'in',\n",
    "          'ytick.right': True,\n",
    "          'figure.figsize': [9, 9],\n",
    "          'figure.facecolor': 'White'\n",
    "          }\n",
    "\n",
    "plt.rcParams.update(params)"
   ]
  },
  {
   "cell_type": "markdown",
   "id": "bf8c5bae-55da-4046-867d-e6f84d72bfff",
   "metadata": {},
   "source": [
    "#### Instantiate the Butler."
   ]
  },
  {
   "cell_type": "code",
   "execution_count": 11,
   "id": "d3251edd",
   "metadata": {
    "execution": {
     "iopub.execute_input": "2023-10-03T16:55:37.246830Z",
     "iopub.status.busy": "2023-10-03T16:55:37.246027Z",
     "iopub.status.idle": "2023-10-03T16:55:38.833906Z",
     "shell.execute_reply": "2023-10-03T16:55:38.832956Z",
     "shell.execute_reply.started": "2023-10-03T16:55:37.246802Z"
    },
    "tags": []
   },
   "outputs": [],
   "source": [
    "# For DC2 gen3, these are the only optoins\n",
    "repo = 's3://butler-us-central1-dp01'\n",
    "collection = '2.2i/runs/DP0.1'\n",
    "\n",
    "butler = Butler(repo, collections=collection)\n",
    "registry = butler.registry"
   ]
  },
  {
   "cell_type": "markdown",
   "id": "4e038f66-74cc-4f50-a9ef-99d5d6963e82",
   "metadata": {},
   "source": [
    "#### Create a list of artificial stars to inject: \n",
    "\n",
    "To inject artificial stars, all that is needed is a list of RA, Dec positions, and magnitudes to assign the simulated stars.\n",
    "\n",
    "We will generate `nfakes` stars with positions randomly distributed (using a normal distribution of size `scatter_arcmin` in arcminutes) about the center coordinate (racen, deccen). The stars will be evenly spaced in u-band magnitude (i.e., in `nfakes` equal intervals between magmin and magmax), and randomly distributed about a mean color for each band. (I chose to use a fixed mean color for all stars for simplicity, but apply a normally-distributed scatter of `mag_scatter` magnitudes about this mean value so they are not all identical.)\n"
   ]
  },
  {
   "cell_type": "code",
   "execution_count": 12,
   "id": "697dad31-9de9-411a-94b2-9cb59a429ff2",
   "metadata": {
    "execution": {
     "iopub.execute_input": "2023-10-03T16:55:45.011855Z",
     "iopub.status.busy": "2023-10-03T16:55:45.011002Z",
     "iopub.status.idle": "2023-10-03T16:55:45.017507Z",
     "shell.execute_reply": "2023-10-03T16:55:45.016731Z",
     "shell.execute_reply.started": "2023-10-03T16:55:45.011823Z"
    },
    "tags": []
   },
   "outputs": [],
   "source": [
    "# Central (RA, Dec) position (in degrees) at which to insert stars:\n",
    "racen = 70.3\n",
    "deccen = -37.15\n",
    "\n",
    "# Place all the fake stars within `scatter_arcmin` arcminutes of the center coordinate:\n",
    "scatter_arcmin = 1.0\n",
    "\n",
    "# \"nfakes\" is the number of fake stars to inject:\n",
    "nfakes = 31\n",
    "\n",
    "# Assign positions using a (random) normal distribution about the center coordinates:\n",
    "fake_ras = racen + (np.random.randn(nfakes) * scatter_arcmin / 60.0)\n",
    "fake_decs = deccen + (np.random.randn(nfakes) * scatter_arcmin / 60.0)\n",
    "\n",
    "# Make artificial u magnitudes in a range:\n",
    "min_umag = 18.0\n",
    "max_umag = 22.0\n",
    "mag_scatter = 0.3\n",
    "fake_umags = np.linspace(min_umag, max_umag, nfakes)\n",
    "\n",
    "# Now assign magnitudes in other bands using (~fixed) colors:\n",
    "fake_gmags = fake_umags - (1.0 + mag_scatter * np.random.randn(nfakes))  # distrib centered on u-g=1.0\n",
    "fake_rmags = fake_gmags - (0.4 + mag_scatter * np.random.randn(nfakes))  # distrib centered on g-r=0.4\n",
    "fake_imags = fake_rmags - (0.2 + mag_scatter * np.random.randn(nfakes))  # distrib centered on r-i=0.2\n",
    "\n",
    "# These are totally arbitrary colors, but should be kinda similar to BHB stars?"
   ]
  },
  {
   "cell_type": "code",
   "execution_count": 4,
   "id": "dab2c0ec-ecf5-4131-bb8b-52e27daa0ffb",
   "metadata": {
    "execution": {
     "iopub.execute_input": "2023-10-03T16:54:41.583444Z",
     "iopub.status.busy": "2023-10-03T16:54:41.582667Z",
     "iopub.status.idle": "2023-10-03T16:54:41.586487Z",
     "shell.execute_reply": "2023-10-03T16:54:41.585738Z",
     "shell.execute_reply.started": "2023-10-03T16:54:41.583413Z"
    },
    "tags": []
   },
   "outputs": [],
   "source": [
    "# print(fake_ras, fake_decs, fake_gmags)"
   ]
  },
  {
   "cell_type": "markdown",
   "id": "8523f75d-5b8c-4b84-89e0-22fabd2f9d7e",
   "metadata": {},
   "source": [
    "### Look up the images that overlap the desired coordinates\n",
    "\n",
    "We will use the spatial query method introduced in [notebook 04: Intro to the Butler](https://github.com/rubin-dp0/tutorial-notebooks/blob/main/04_Intro_to_Butler.ipynb)."
   ]
  },
  {
   "cell_type": "code",
   "execution_count": 13,
   "id": "5ebeca84-1d38-409b-8525-3e8bb5e0c0aa",
   "metadata": {
    "execution": {
     "iopub.execute_input": "2023-10-03T16:55:53.708941Z",
     "iopub.status.busy": "2023-10-03T16:55:53.707906Z",
     "iopub.status.idle": "2023-10-03T16:55:53.712429Z",
     "shell.execute_reply": "2023-10-03T16:55:53.711655Z",
     "shell.execute_reply.started": "2023-10-03T16:55:53.708907Z"
    },
    "tags": []
   },
   "outputs": [],
   "source": [
    "import lsst.sphgeom\n",
    "\n",
    "pixelization = lsst.sphgeom.HtmPixelization(12)"
   ]
  },
  {
   "cell_type": "code",
   "execution_count": 14,
   "id": "202ca902-361f-4feb-853b-e665cb0d2951",
   "metadata": {
    "execution": {
     "iopub.execute_input": "2023-10-03T16:55:54.447359Z",
     "iopub.status.busy": "2023-10-03T16:55:54.446637Z",
     "iopub.status.idle": "2023-10-03T16:55:54.452320Z",
     "shell.execute_reply": "2023-10-03T16:55:54.451469Z",
     "shell.execute_reply.started": "2023-10-03T16:55:54.447328Z"
    },
    "tags": []
   },
   "outputs": [
    {
     "name": "stdout",
     "output_type": "stream",
     "text": [
      "HTM ID=147743564 at level=12 is a ~6.8e+01\" triangle.\n"
     ]
    }
   ],
   "source": [
    "htm_id = pixelization.index(\n",
    "    lsst.sphgeom.UnitVector3d(\n",
    "        lsst.sphgeom.LonLat.fromDegrees(racen, deccen)\n",
    "    )\n",
    ")\n",
    "\n",
    "# Obtain and print the scale to provide a sense of the size of the sky pixelization being used\n",
    "scale = pixelization.triangle(htm_id).getBoundingCircle().getOpeningAngle().asDegrees()*3600\n",
    "print(f'HTM ID={htm_id} at level={pixelization.getLevel()} is a ~{scale:0.2}\" triangle.')"
   ]
  },
  {
   "cell_type": "markdown",
   "id": "3484fb71-9939-4ce7-b345-be7f804d50c7",
   "metadata": {},
   "source": [
    "#### Now query the registry for all \"calexp\" images overlapping the desired position:"
   ]
  },
  {
   "cell_type": "code",
   "execution_count": 15,
   "id": "d47c7be4-a872-44a4-98d9-24e6f8f7a63f",
   "metadata": {
    "execution": {
     "iopub.execute_input": "2023-10-03T16:55:56.498625Z",
     "iopub.status.busy": "2023-10-03T16:55:56.498263Z",
     "iopub.status.idle": "2023-10-03T16:55:56.626814Z",
     "shell.execute_reply": "2023-10-03T16:55:56.625703Z",
     "shell.execute_reply.started": "2023-10-03T16:55:56.498596Z"
    },
    "tags": []
   },
   "outputs": [
    {
     "ename": "RuntimeError",
     "evalue": "Query with relation Π[](σ[regions_overlap(visit_detector_region.region, ConvexPolygon([UnitVector3d(0.2690936925599533, 0.7501682379007173, -0.6040167211835964), UnitVector3d(0.2686766675335063, 0.7500655979645878, -0.6043297502796923), UnitVector3d(0.2686627676417837, 0.7504365596549092, -0.6038752248737821)]))](→[iteration](select(Π[band, calexp.dataset_id, calexp.run, detector, instrument, physical_filter, visit, visit_detector_region.region, visit_system](σ[htm7=144280](calexp({'2.2i/runs/DP0.1/calexp/v1': 0}) ⋈ visit_detector_region_htm7_overlap ⋈ physical_filter ⋈ visit ⋈ visit_detector_region)))))) has deferred operations that must be executed in Python in order to obtain an exact count.  Pass discard=True to run the query and discard the result rows while counting them, run the query first, or pass exact=False to obtain an upper bound.",
     "output_type": "error",
     "traceback": [
      "\u001b[0;31m---------------------------------------------------------------------------\u001b[0m",
      "\u001b[0;31mRuntimeError\u001b[0m                              Traceback (most recent call last)",
      "Cell \u001b[0;32mIn[15], line 3\u001b[0m\n\u001b[1;32m      1\u001b[0m datasetRefs \u001b[38;5;241m=\u001b[39m registry\u001b[38;5;241m.\u001b[39mqueryDatasets(\u001b[38;5;124m\"\u001b[39m\u001b[38;5;124mcalexp\u001b[39m\u001b[38;5;124m\"\u001b[39m, htm20\u001b[38;5;241m=\u001b[39mhtm_id)\n\u001b[0;32m----> 3\u001b[0m \u001b[38;5;28mprint\u001b[39m(\u001b[38;5;124m\"\u001b[39m\u001b[38;5;124mFound \u001b[39m\u001b[38;5;124m\"\u001b[39m, \u001b[43mdatasetRefs\u001b[49m\u001b[38;5;241;43m.\u001b[39;49m\u001b[43mcount\u001b[49m\u001b[43m(\u001b[49m\u001b[43m)\u001b[49m, \u001b[38;5;124m\"\u001b[39m\u001b[38;5;124m calexps at that position.\u001b[39m\u001b[38;5;124m\"\u001b[39m)\n",
      "File \u001b[0;32m/opt/lsst/software/stack/stack/miniconda3-py38_4.9.2-7.0.1/Linux64/daf_butler/gfc0b858265+07967ebf72/python/lsst/daf/butler/registry/queries/_results.py:702\u001b[0m, in \u001b[0;36mParentDatasetQueryResults.count\u001b[0;34m(self, exact, discard)\u001b[0m\n\u001b[1;32m    700\u001b[0m \u001b[38;5;28;01mdef\u001b[39;00m \u001b[38;5;21mcount\u001b[39m(\u001b[38;5;28mself\u001b[39m, \u001b[38;5;241m*\u001b[39m, exact: \u001b[38;5;28mbool\u001b[39m \u001b[38;5;241m=\u001b[39m \u001b[38;5;28;01mTrue\u001b[39;00m, discard: \u001b[38;5;28mbool\u001b[39m \u001b[38;5;241m=\u001b[39m \u001b[38;5;28;01mFalse\u001b[39;00m) \u001b[38;5;241m-\u001b[39m\u001b[38;5;241m>\u001b[39m \u001b[38;5;28mint\u001b[39m:\n\u001b[1;32m    701\u001b[0m     \u001b[38;5;66;03m# Docstring inherited.\u001b[39;00m\n\u001b[0;32m--> 702\u001b[0m     \u001b[38;5;28;01mreturn\u001b[39;00m \u001b[38;5;28mlen\u001b[39m(\u001b[38;5;28mself\u001b[39m\u001b[38;5;241m.\u001b[39m_components) \u001b[38;5;241m*\u001b[39m \u001b[38;5;28;43mself\u001b[39;49m\u001b[38;5;241;43m.\u001b[39;49m\u001b[43m_query\u001b[49m\u001b[38;5;241;43m.\u001b[39;49m\u001b[43mcount\u001b[49m\u001b[43m(\u001b[49m\u001b[43mexact\u001b[49m\u001b[38;5;241;43m=\u001b[39;49m\u001b[43mexact\u001b[49m\u001b[43m,\u001b[49m\u001b[43m \u001b[49m\u001b[43mdiscard\u001b[49m\u001b[38;5;241;43m=\u001b[39;49m\u001b[43mdiscard\u001b[49m\u001b[43m)\u001b[49m\n",
      "File \u001b[0;32m/opt/lsst/software/stack/stack/miniconda3-py38_4.9.2-7.0.1/Linux64/daf_butler/gfc0b858265+07967ebf72/python/lsst/daf/butler/registry/queries/_query.py:930\u001b[0m, in \u001b[0;36mQuery.count\u001b[0;34m(self, exact, discard)\u001b[0m\n\u001b[1;32m    928\u001b[0m \u001b[38;5;28;01mif\u001b[39;00m \u001b[38;5;28mself\u001b[39m\u001b[38;5;241m.\u001b[39m_relation\u001b[38;5;241m.\u001b[39mmin_rows \u001b[38;5;241m==\u001b[39m \u001b[38;5;28mself\u001b[39m\u001b[38;5;241m.\u001b[39m_relation\u001b[38;5;241m.\u001b[39mmax_rows:\n\u001b[1;32m    929\u001b[0m     \u001b[38;5;28;01mreturn\u001b[39;00m \u001b[38;5;28mself\u001b[39m\u001b[38;5;241m.\u001b[39m_relation\u001b[38;5;241m.\u001b[39mmax_rows\n\u001b[0;32m--> 930\u001b[0m \u001b[38;5;28;01mreturn\u001b[39;00m \u001b[38;5;28;43mself\u001b[39;49m\u001b[38;5;241;43m.\u001b[39;49m\u001b[43m_context\u001b[49m\u001b[38;5;241;43m.\u001b[39;49m\u001b[43mcount\u001b[49m\u001b[43m(\u001b[49m\u001b[38;5;28;43mself\u001b[39;49m\u001b[38;5;241;43m.\u001b[39;49m\u001b[43m_relation\u001b[49m\u001b[43m,\u001b[49m\u001b[43m \u001b[49m\u001b[43mexact\u001b[49m\u001b[38;5;241;43m=\u001b[39;49m\u001b[43mexact\u001b[49m\u001b[43m,\u001b[49m\u001b[43m \u001b[49m\u001b[43mdiscard\u001b[49m\u001b[38;5;241;43m=\u001b[39;49m\u001b[43mdiscard\u001b[49m\u001b[43m)\u001b[49m\n",
      "File \u001b[0;32m/opt/lsst/software/stack/stack/miniconda3-py38_4.9.2-7.0.1/Linux64/daf_butler/gfc0b858265+07967ebf72/python/lsst/daf/butler/registry/queries/_sql_query_context.py:142\u001b[0m, in \u001b[0;36mSqlQueryContext.count\u001b[0;34m(self, relation, exact, discard)\u001b[0m\n\u001b[1;32m    140\u001b[0m     \u001b[38;5;28;01mreturn\u001b[39;00m n\n\u001b[1;32m    141\u001b[0m \u001b[38;5;28;01melse\u001b[39;00m:\n\u001b[0;32m--> 142\u001b[0m     \u001b[38;5;28;01mraise\u001b[39;00m \u001b[38;5;167;01mRuntimeError\u001b[39;00m(\n\u001b[1;32m    143\u001b[0m         \u001b[38;5;124mf\u001b[39m\u001b[38;5;124m\"\u001b[39m\u001b[38;5;124mQuery with relation \u001b[39m\u001b[38;5;132;01m{\u001b[39;00mrelation\u001b[38;5;132;01m}\u001b[39;00m\u001b[38;5;124m has deferred operations that \u001b[39m\u001b[38;5;124m\"\u001b[39m\n\u001b[1;32m    144\u001b[0m         \u001b[38;5;124m\"\u001b[39m\u001b[38;5;124mmust be executed in Python in order to obtain an exact \u001b[39m\u001b[38;5;124m\"\u001b[39m\n\u001b[1;32m    145\u001b[0m         \u001b[38;5;124m\"\u001b[39m\u001b[38;5;124mcount.  Pass discard=True to run the query and discard the \u001b[39m\u001b[38;5;124m\"\u001b[39m\n\u001b[1;32m    146\u001b[0m         \u001b[38;5;124m\"\u001b[39m\u001b[38;5;124mresult rows while counting them, run the query first, or \u001b[39m\u001b[38;5;124m\"\u001b[39m\n\u001b[1;32m    147\u001b[0m         \u001b[38;5;124m\"\u001b[39m\u001b[38;5;124mpass exact=False to obtain an upper bound.\u001b[39m\u001b[38;5;124m\"\u001b[39m\n\u001b[1;32m    148\u001b[0m     )\n",
      "\u001b[0;31mRuntimeError\u001b[0m: Query with relation Π[](σ[regions_overlap(visit_detector_region.region, ConvexPolygon([UnitVector3d(0.2690936925599533, 0.7501682379007173, -0.6040167211835964), UnitVector3d(0.2686766675335063, 0.7500655979645878, -0.6043297502796923), UnitVector3d(0.2686627676417837, 0.7504365596549092, -0.6038752248737821)]))](→[iteration](select(Π[band, calexp.dataset_id, calexp.run, detector, instrument, physical_filter, visit, visit_detector_region.region, visit_system](σ[htm7=144280](calexp({'2.2i/runs/DP0.1/calexp/v1': 0}) ⋈ visit_detector_region_htm7_overlap ⋈ physical_filter ⋈ visit ⋈ visit_detector_region)))))) has deferred operations that must be executed in Python in order to obtain an exact count.  Pass discard=True to run the query and discard the result rows while counting them, run the query first, or pass exact=False to obtain an upper bound."
     ]
    }
   ],
   "source": [
    "datasetRefs = registry.queryDatasets(\"calexp\", htm20=htm_id)\n",
    "\n",
    "print(\"Found \", datasetRefs.count(), \" calexps at that position.\")"
   ]
  },
  {
   "cell_type": "markdown",
   "id": "2c975f67-11de-4165-8dbb-898ea6c7a49b",
   "metadata": {
    "tags": []
   },
   "source": [
    "That's nice, but it finds images from all bands overlapping the position in a single iterator. Let's get lists separately for each band:"
   ]
  },
  {
   "cell_type": "code",
   "execution_count": 16,
   "id": "e6ecb201-a53b-4c25-80e8-cee0ea43a857",
   "metadata": {
    "execution": {
     "iopub.execute_input": "2023-10-03T16:56:04.948511Z",
     "iopub.status.busy": "2023-10-03T16:56:04.947654Z",
     "iopub.status.idle": "2023-10-03T16:56:05.010206Z",
     "shell.execute_reply": "2023-10-03T16:56:05.009159Z",
     "shell.execute_reply.started": "2023-10-03T16:56:04.948480Z"
    },
    "tags": []
   },
   "outputs": [
    {
     "ename": "RuntimeError",
     "evalue": "Query with relation Π[](σ[regions_overlap(visit_detector_region.region, ConvexPolygon([UnitVector3d(0.2690936925599533, 0.7501682379007173, -0.6040167211835964), UnitVector3d(0.2686766675335063, 0.7500655979645878, -0.6043297502796923), UnitVector3d(0.2686627676417837, 0.7504365596549092, -0.6038752248737821)]))](→[iteration](select(Π[band, calexp.dataset_id, calexp.run, detector, instrument, physical_filter, visit, visit_detector_region.region, visit_system](σ[band='u' and htm7=144280](calexp({'2.2i/runs/DP0.1/calexp/v1': 0}) ⋈ visit_detector_region_htm7_overlap ⋈ physical_filter ⋈ visit ⋈ visit_detector_region)))))) has deferred operations that must be executed in Python in order to obtain an exact count.  Pass discard=True to run the query and discard the result rows while counting them, run the query first, or pass exact=False to obtain an upper bound.",
     "output_type": "error",
     "traceback": [
      "\u001b[0;31m---------------------------------------------------------------------------\u001b[0m",
      "\u001b[0;31mRuntimeError\u001b[0m                              Traceback (most recent call last)",
      "Cell \u001b[0;32mIn[16], line 6\u001b[0m\n\u001b[1;32m      3\u001b[0m datasetRefs_r \u001b[38;5;241m=\u001b[39m registry\u001b[38;5;241m.\u001b[39mqueryDatasets(\u001b[38;5;124m\"\u001b[39m\u001b[38;5;124mcalexp\u001b[39m\u001b[38;5;124m\"\u001b[39m, htm20\u001b[38;5;241m=\u001b[39mhtm_id, band\u001b[38;5;241m=\u001b[39m\u001b[38;5;124m\"\u001b[39m\u001b[38;5;124mr\u001b[39m\u001b[38;5;124m\"\u001b[39m)\n\u001b[1;32m      4\u001b[0m datasetRefs_i \u001b[38;5;241m=\u001b[39m registry\u001b[38;5;241m.\u001b[39mqueryDatasets(\u001b[38;5;124m\"\u001b[39m\u001b[38;5;124mcalexp\u001b[39m\u001b[38;5;124m\"\u001b[39m, htm20\u001b[38;5;241m=\u001b[39mhtm_id, band\u001b[38;5;241m=\u001b[39m\u001b[38;5;124m\"\u001b[39m\u001b[38;5;124mi\u001b[39m\u001b[38;5;124m\"\u001b[39m)\n\u001b[0;32m----> 6\u001b[0m \u001b[38;5;28mprint\u001b[39m(\u001b[38;5;124m\"\u001b[39m\u001b[38;5;124mFound \u001b[39m\u001b[38;5;124m\"\u001b[39m, \u001b[43mdatasetRefs_u\u001b[49m\u001b[38;5;241;43m.\u001b[39;49m\u001b[43mcount\u001b[49m\u001b[43m(\u001b[49m\u001b[43m)\u001b[49m, \u001b[38;5;124m\"\u001b[39m\u001b[38;5;124m u-band calexps at that position.\u001b[39m\u001b[38;5;124m\"\u001b[39m)\n\u001b[1;32m      7\u001b[0m \u001b[38;5;28mprint\u001b[39m(\u001b[38;5;124m\"\u001b[39m\u001b[38;5;124mFound \u001b[39m\u001b[38;5;124m\"\u001b[39m, datasetRefs_g\u001b[38;5;241m.\u001b[39mcount(), \u001b[38;5;124m\"\u001b[39m\u001b[38;5;124m g-band calexps at that position.\u001b[39m\u001b[38;5;124m\"\u001b[39m)\n\u001b[1;32m      8\u001b[0m \u001b[38;5;28mprint\u001b[39m(\u001b[38;5;124m\"\u001b[39m\u001b[38;5;124mFound \u001b[39m\u001b[38;5;124m\"\u001b[39m, datasetRefs_r\u001b[38;5;241m.\u001b[39mcount(), \u001b[38;5;124m\"\u001b[39m\u001b[38;5;124m r-band calexps at that position.\u001b[39m\u001b[38;5;124m\"\u001b[39m)\n",
      "File \u001b[0;32m/opt/lsst/software/stack/stack/miniconda3-py38_4.9.2-7.0.1/Linux64/daf_butler/gfc0b858265+07967ebf72/python/lsst/daf/butler/registry/queries/_results.py:702\u001b[0m, in \u001b[0;36mParentDatasetQueryResults.count\u001b[0;34m(self, exact, discard)\u001b[0m\n\u001b[1;32m    700\u001b[0m \u001b[38;5;28;01mdef\u001b[39;00m \u001b[38;5;21mcount\u001b[39m(\u001b[38;5;28mself\u001b[39m, \u001b[38;5;241m*\u001b[39m, exact: \u001b[38;5;28mbool\u001b[39m \u001b[38;5;241m=\u001b[39m \u001b[38;5;28;01mTrue\u001b[39;00m, discard: \u001b[38;5;28mbool\u001b[39m \u001b[38;5;241m=\u001b[39m \u001b[38;5;28;01mFalse\u001b[39;00m) \u001b[38;5;241m-\u001b[39m\u001b[38;5;241m>\u001b[39m \u001b[38;5;28mint\u001b[39m:\n\u001b[1;32m    701\u001b[0m     \u001b[38;5;66;03m# Docstring inherited.\u001b[39;00m\n\u001b[0;32m--> 702\u001b[0m     \u001b[38;5;28;01mreturn\u001b[39;00m \u001b[38;5;28mlen\u001b[39m(\u001b[38;5;28mself\u001b[39m\u001b[38;5;241m.\u001b[39m_components) \u001b[38;5;241m*\u001b[39m \u001b[38;5;28;43mself\u001b[39;49m\u001b[38;5;241;43m.\u001b[39;49m\u001b[43m_query\u001b[49m\u001b[38;5;241;43m.\u001b[39;49m\u001b[43mcount\u001b[49m\u001b[43m(\u001b[49m\u001b[43mexact\u001b[49m\u001b[38;5;241;43m=\u001b[39;49m\u001b[43mexact\u001b[49m\u001b[43m,\u001b[49m\u001b[43m \u001b[49m\u001b[43mdiscard\u001b[49m\u001b[38;5;241;43m=\u001b[39;49m\u001b[43mdiscard\u001b[49m\u001b[43m)\u001b[49m\n",
      "File \u001b[0;32m/opt/lsst/software/stack/stack/miniconda3-py38_4.9.2-7.0.1/Linux64/daf_butler/gfc0b858265+07967ebf72/python/lsst/daf/butler/registry/queries/_query.py:930\u001b[0m, in \u001b[0;36mQuery.count\u001b[0;34m(self, exact, discard)\u001b[0m\n\u001b[1;32m    928\u001b[0m \u001b[38;5;28;01mif\u001b[39;00m \u001b[38;5;28mself\u001b[39m\u001b[38;5;241m.\u001b[39m_relation\u001b[38;5;241m.\u001b[39mmin_rows \u001b[38;5;241m==\u001b[39m \u001b[38;5;28mself\u001b[39m\u001b[38;5;241m.\u001b[39m_relation\u001b[38;5;241m.\u001b[39mmax_rows:\n\u001b[1;32m    929\u001b[0m     \u001b[38;5;28;01mreturn\u001b[39;00m \u001b[38;5;28mself\u001b[39m\u001b[38;5;241m.\u001b[39m_relation\u001b[38;5;241m.\u001b[39mmax_rows\n\u001b[0;32m--> 930\u001b[0m \u001b[38;5;28;01mreturn\u001b[39;00m \u001b[38;5;28;43mself\u001b[39;49m\u001b[38;5;241;43m.\u001b[39;49m\u001b[43m_context\u001b[49m\u001b[38;5;241;43m.\u001b[39;49m\u001b[43mcount\u001b[49m\u001b[43m(\u001b[49m\u001b[38;5;28;43mself\u001b[39;49m\u001b[38;5;241;43m.\u001b[39;49m\u001b[43m_relation\u001b[49m\u001b[43m,\u001b[49m\u001b[43m \u001b[49m\u001b[43mexact\u001b[49m\u001b[38;5;241;43m=\u001b[39;49m\u001b[43mexact\u001b[49m\u001b[43m,\u001b[49m\u001b[43m \u001b[49m\u001b[43mdiscard\u001b[49m\u001b[38;5;241;43m=\u001b[39;49m\u001b[43mdiscard\u001b[49m\u001b[43m)\u001b[49m\n",
      "File \u001b[0;32m/opt/lsst/software/stack/stack/miniconda3-py38_4.9.2-7.0.1/Linux64/daf_butler/gfc0b858265+07967ebf72/python/lsst/daf/butler/registry/queries/_sql_query_context.py:142\u001b[0m, in \u001b[0;36mSqlQueryContext.count\u001b[0;34m(self, relation, exact, discard)\u001b[0m\n\u001b[1;32m    140\u001b[0m     \u001b[38;5;28;01mreturn\u001b[39;00m n\n\u001b[1;32m    141\u001b[0m \u001b[38;5;28;01melse\u001b[39;00m:\n\u001b[0;32m--> 142\u001b[0m     \u001b[38;5;28;01mraise\u001b[39;00m \u001b[38;5;167;01mRuntimeError\u001b[39;00m(\n\u001b[1;32m    143\u001b[0m         \u001b[38;5;124mf\u001b[39m\u001b[38;5;124m\"\u001b[39m\u001b[38;5;124mQuery with relation \u001b[39m\u001b[38;5;132;01m{\u001b[39;00mrelation\u001b[38;5;132;01m}\u001b[39;00m\u001b[38;5;124m has deferred operations that \u001b[39m\u001b[38;5;124m\"\u001b[39m\n\u001b[1;32m    144\u001b[0m         \u001b[38;5;124m\"\u001b[39m\u001b[38;5;124mmust be executed in Python in order to obtain an exact \u001b[39m\u001b[38;5;124m\"\u001b[39m\n\u001b[1;32m    145\u001b[0m         \u001b[38;5;124m\"\u001b[39m\u001b[38;5;124mcount.  Pass discard=True to run the query and discard the \u001b[39m\u001b[38;5;124m\"\u001b[39m\n\u001b[1;32m    146\u001b[0m         \u001b[38;5;124m\"\u001b[39m\u001b[38;5;124mresult rows while counting them, run the query first, or \u001b[39m\u001b[38;5;124m\"\u001b[39m\n\u001b[1;32m    147\u001b[0m         \u001b[38;5;124m\"\u001b[39m\u001b[38;5;124mpass exact=False to obtain an upper bound.\u001b[39m\u001b[38;5;124m\"\u001b[39m\n\u001b[1;32m    148\u001b[0m     )\n",
      "\u001b[0;31mRuntimeError\u001b[0m: Query with relation Π[](σ[regions_overlap(visit_detector_region.region, ConvexPolygon([UnitVector3d(0.2690936925599533, 0.7501682379007173, -0.6040167211835964), UnitVector3d(0.2686766675335063, 0.7500655979645878, -0.6043297502796923), UnitVector3d(0.2686627676417837, 0.7504365596549092, -0.6038752248737821)]))](→[iteration](select(Π[band, calexp.dataset_id, calexp.run, detector, instrument, physical_filter, visit, visit_detector_region.region, visit_system](σ[band='u' and htm7=144280](calexp({'2.2i/runs/DP0.1/calexp/v1': 0}) ⋈ visit_detector_region_htm7_overlap ⋈ physical_filter ⋈ visit ⋈ visit_detector_region)))))) has deferred operations that must be executed in Python in order to obtain an exact count.  Pass discard=True to run the query and discard the result rows while counting them, run the query first, or pass exact=False to obtain an upper bound."
     ]
    }
   ],
   "source": [
    "datasetRefs_u = registry.queryDatasets(\"calexp\", htm20=htm_id, band=\"u\")\n",
    "datasetRefs_g = registry.queryDatasets(\"calexp\", htm20=htm_id, band=\"g\")\n",
    "datasetRefs_r = registry.queryDatasets(\"calexp\", htm20=htm_id, band=\"r\")\n",
    "datasetRefs_i = registry.queryDatasets(\"calexp\", htm20=htm_id, band=\"i\")\n",
    "\n",
    "print(\"Found \", datasetRefs_u.count(), \" u-band calexps at that position.\")\n",
    "print(\"Found \", datasetRefs_g.count(), \" g-band calexps at that position.\")\n",
    "print(\"Found \", datasetRefs_r.count(), \" r-band calexps at that position.\")\n",
    "print(\"Found \", datasetRefs_i.count(), \" i-band calexps at that position.\")"
   ]
  },
  {
   "cell_type": "markdown",
   "id": "a4371855-afdb-48d2-a129-79cb9baf1a1f",
   "metadata": {},
   "source": [
    "For now, let's just grab the first image in the list for each band."
   ]
  },
  {
   "cell_type": "code",
   "execution_count": 17,
   "id": "a66283e9-99c7-43b2-abb6-71b2b220217a",
   "metadata": {
    "execution": {
     "iopub.execute_input": "2023-10-03T16:56:06.067989Z",
     "iopub.status.busy": "2023-10-03T16:56:06.067527Z",
     "iopub.status.idle": "2023-10-03T16:56:22.183019Z",
     "shell.execute_reply": "2023-10-03T16:56:22.181980Z",
     "shell.execute_reply.started": "2023-10-03T16:56:06.067936Z"
    },
    "tags": []
   },
   "outputs": [],
   "source": [
    "for i, ref in enumerate(datasetRefs_u):\n",
    "    uref = ref\n",
    "    if i > 0:\n",
    "        break\n",
    "\n",
    "for i, ref in enumerate(datasetRefs_g):\n",
    "    gref = ref\n",
    "    if i > 0:\n",
    "        break\n",
    "\n",
    "for i, ref in enumerate(datasetRefs_r):\n",
    "    rref = ref\n",
    "    if i > 0:\n",
    "        break\n",
    "\n",
    "for i, ref in enumerate(datasetRefs_i):\n",
    "    iref = ref\n",
    "    if i > 0:\n",
    "        break\n"
   ]
  },
  {
   "cell_type": "markdown",
   "id": "15ea6f09-1bf9-45c1-9b9b-2fa45e2b49a0",
   "metadata": {},
   "source": [
    "What does that `datasetRef` object look like?"
   ]
  },
  {
   "cell_type": "code",
   "execution_count": null,
   "id": "28369ab2-97bc-4a7e-99e7-50eb45335b0f",
   "metadata": {},
   "outputs": [],
   "source": [
    "iref"
   ]
  },
  {
   "cell_type": "markdown",
   "id": "373b3c73",
   "metadata": {},
   "source": [
    "### Make stars and inject them into images:\n",
    "\n",
    "First, write a function (\"makeFakeStar\") that takes as inputs the position, flux (intensity), and the PSF, and returns an image of the PSF scaled to the desired flux at the input position.\n",
    "\n",
    "Next, we add a function (\"addFakeStars\") that takes the list of RAs, Decs, and magnitudes, and a `datasetRef` for a `calexp` image, and returns a version of the input `calexp` that has the fake stars injected into it. (This function calls \"makeFakeStar\" for each star in the list.)\n",
    "\n",
    "The source injection steps were developed following this piece of code as an example: https://github.com/lsst/pipe_tasks/blob/387f8f07a2b66205f9fa6bda9a89dcdbbef3f64c/tests/test_fakeProcessing.py"
   ]
  },
  {
   "cell_type": "code",
   "execution_count": 20,
   "id": "d9aa8aa7",
   "metadata": {
    "execution": {
     "iopub.execute_input": "2023-10-03T16:58:50.929363Z",
     "iopub.status.busy": "2023-10-03T16:58:50.928563Z",
     "iopub.status.idle": "2023-10-03T16:58:50.933504Z",
     "shell.execute_reply": "2023-10-03T16:58:50.932839Z",
     "shell.execute_reply.started": "2023-10-03T16:58:50.929331Z"
    },
    "tags": []
   },
   "outputs": [],
   "source": [
    "# make stars at a given position with a given intensity\n",
    "def makeFakeStar(position, intensity, psf):\n",
    "    psfImage = psf.computeImage(geom.Point2D(position.x, position.y)).getArray()\n",
    "    psfImage *= intensity\n",
    "    noise = np.random.normal(0, np.sqrt(abs(psfImage)))\n",
    "    return psfImage + noise, noise"
   ]
  },
  {
   "cell_type": "code",
   "execution_count": 21,
   "id": "3ac55d1f-ce5c-4e71-aaa1-2c0c5632493b",
   "metadata": {
    "execution": {
     "iopub.execute_input": "2023-10-03T16:58:52.729870Z",
     "iopub.status.busy": "2023-10-03T16:58:52.729504Z",
     "iopub.status.idle": "2023-10-03T16:58:52.740609Z",
     "shell.execute_reply": "2023-10-03T16:58:52.739736Z",
     "shell.execute_reply.started": "2023-10-03T16:58:52.729844Z"
    },
    "tags": []
   },
   "outputs": [],
   "source": [
    "def addFakeStars(ras, decs, mags, calexp_ref):\n",
    "    calexp_inp = butler.get('calexp', calexp_ref.dataId)\n",
    "    calexp_withFakes = calexp_inp.clone()\n",
    "\n",
    "    # Fetch objects from the exposure\n",
    "    psf = calexp_withFakes.getPsf()\n",
    "    image = calexp_withFakes.getMaskedImage().getImage()\n",
    "    variance = calexp_withFakes.getMaskedImage().getVariance()\n",
    "    wcs = calexp_withFakes.getWcs()\n",
    "    photocalib = calexp_withFakes.getPhotoCalib()\n",
    "\n",
    "    fluxes = []\n",
    "\n",
    "    # Use the \"photocalib\" from the calexp to convert magnitudes to instrumental fluxes:\n",
    "    for mag in mags:\n",
    "        fluxes.append(photocalib.magnitudeToInstFlux(mag))\n",
    "\n",
    "    # Get the corner coordinates of the image:\n",
    "    y0 = image.getY0()\n",
    "    x0 = image.getX0()\n",
    "    ymax = y0 + calexp_withFakes.getDimensions()[1]\n",
    "    xmax = x0 + calexp_withFakes.getDimensions()[0]\n",
    "\n",
    "    #xvals = []\n",
    "    #yvals = []\n",
    "    \n",
    "    # At each position create a star with the given intensity and add it\n",
    "    # to the image.\n",
    "    for ra, dec, intensity in zip(ras, decs, fluxes):\n",
    "        # Use the WCS to convert RA, Dec to X, Y pixel coordinates:\n",
    "        pos = wcs.skyToPixel(geom.SpherePoint(ra, dec, geom.degrees))\n",
    "        #xvals.append(pos.x)\n",
    "        #yvals.append(pos.y)\n",
    "\n",
    "        # Call \"makeFakeStar\" to get the image of a PSF-like object with the desired flux:\n",
    "        objArray, noiseArray = makeFakeStar(pos, intensity, psf)\n",
    "        psfRad = int((objArray.shape[0]-1)/2.)\n",
    "\n",
    "        # Check that the desired position is within the image:\n",
    "        oky = (pos.y > psfRad) & (pos.y < ymax - psfRad)\n",
    "        okx = (pos.x > psfRad) & (pos.x < xmax - psfRad)\n",
    "\n",
    "        if okx & oky:\n",
    "            yslice = slice(int(np.floor(pos.y - psfRad - y0)), int(np.floor(pos.y + psfRad + y0 + 1)))\n",
    "            xslice = slice(int(np.floor(pos.x - psfRad - x0)), int(np.floor(pos.x + psfRad + x0 + 1)))\n",
    "\n",
    "            print('Injecting source at x, y = ', pos.x, pos.y)\n",
    "\n",
    "            # NOTE: while image arrays are indexed with x, y, the extraction of the data into (numpy) arrays\n",
    "            # means that the returned arrays follow numpy's y, x convention.\n",
    "            # More on indexing: https://pipelines.lsst.io/modules/lsst.afw.image/indexing-conventions.html\n",
    "            image.getArray()[yslice, xslice] += objArray\n",
    "            variance.getArray()[yslice, xslice] += noiseArray**2\n",
    "        else:\n",
    "            print('Skipped injecting source at x, y = ', pos.x, pos.y, ' because it is too close to (or off) the edge.')\n",
    "\n",
    "    return calexp_inp, calexp_withFakes"
   ]
  },
  {
   "cell_type": "markdown",
   "id": "e5e78af4-6f87-453f-8391-2a4a845ef433",
   "metadata": {},
   "source": [
    "### Call the \"addFakeStars\" function to create calexp images with the artificial stars injected:"
   ]
  },
  {
   "cell_type": "code",
   "execution_count": null,
   "id": "898f7dae-fdf3-4c75-b16b-59f8fba70cc4",
   "metadata": {
    "execution": {
     "iopub.execute_input": "2023-10-03T16:58:53.471714Z",
     "iopub.status.busy": "2023-10-03T16:58:53.471263Z"
    },
    "tags": []
   },
   "outputs": [
    {
     "name": "stdout",
     "output_type": "stream",
     "text": [
      "Injecting source at x, y =  736.2467829237621 1240.8730397780496\n",
      "Injecting source at x, y =  247.04896895354796 1979.521256940984\n",
      "Injecting source at x, y =  1222.877552057087 1658.8250824138581\n",
      "Injecting source at x, y =  496.2387611775539 1357.070572248605\n",
      "Injecting source at x, y =  814.8956298255389 1699.604870890419\n",
      "Injecting source at x, y =  717.8937616920905 1051.7858458496496\n",
      "Injecting source at x, y =  1296.5364084047371 1313.952636135143\n",
      "Injecting source at x, y =  388.3461413873597 1269.2129319505084\n",
      "Injecting source at x, y =  1094.6750274390615 1796.6880268001994\n",
      "Injecting source at x, y =  1273.5881552207327 1202.017475980041\n",
      "Injecting source at x, y =  644.4770262284264 1681.820918101655\n",
      "Injecting source at x, y =  1095.974178906801 1593.610394678984\n",
      "Injecting source at x, y =  1253.7515926570777 2290.8053285249225\n",
      "Injecting source at x, y =  671.8616123616812 1016.0194062013431\n",
      "Injecting source at x, y =  815.3159150657591 1626.631965718334\n",
      "Injecting source at x, y =  306.4748972881516 1512.1653692178522\n",
      "Injecting source at x, y =  563.4212465408589 1171.1516046715706\n",
      "Injecting source at x, y =  370.30709593553615 1408.8979300914239\n",
      "Injecting source at x, y =  690.6287517098019 1507.4683767522251\n",
      "Injecting source at x, y =  948.6940933822215 1020.352795491621\n",
      "Injecting source at x, y =  735.9394771533566 1761.2790870486915\n",
      "Injecting source at x, y =  849.0692590202627 1998.577074255369\n",
      "Injecting source at x, y =  1251.552628098193 1393.8618739177987\n",
      "Injecting source at x, y =  1125.6494457856884 1492.2384951040704\n",
      "Injecting source at x, y =  802.2605114382147 1814.8875815791016\n",
      "Injecting source at x, y =  141.622381712177 1662.8203847531358\n",
      "Injecting source at x, y =  852.3948333118828 1899.894167265878\n",
      "Injecting source at x, y =  1175.1953916587704 1741.830540489534\n",
      "Injecting source at x, y =  900.7228901474837 1562.7254455372743\n",
      "Injecting source at x, y =  760.4395522819786 1388.392425027696\n",
      "Injecting source at x, y =  1003.5269217215624 1620.9642040274614\n",
      "Injecting source at x, y =  639.2898193823717 2231.5962704377525\n",
      "Injecting source at x, y =  1523.1208485898846 2290.651569689898\n",
      "Injecting source at x, y =  760.3477039289289 1600.8743982888316\n",
      "Injecting source at x, y =  859.2763161026412 2382.72715065206\n",
      "Injecting source at x, y =  998.293859536847 1935.5638687189828\n",
      "Injecting source at x, y =  484.3305305332808 2341.377515087606\n",
      "Injecting source at x, y =  424.523758261382 1707.9219506395216\n",
      "Injecting source at x, y =  836.6077514044277 2520.172345041856\n",
      "Injecting source at x, y =  943.6284201037778 1643.9956582587424\n",
      "Injecting source at x, y =  338.79074576665107 1783.4268058262585\n",
      "Injecting source at x, y =  1067.473112467012 2092.64045764606\n",
      "Injecting source at x, y =  766.7656875966543 1743.6357507933537\n",
      "Injecting source at x, y =  1293.42181232443 1260.3967274715067\n",
      "Injecting source at x, y =  476.1503983520497 2399.1658036501003\n",
      "Injecting source at x, y =  934.7639788301749 1971.4073292854296\n",
      "Injecting source at x, y =  1088.0704777349447 2470.849313372793\n",
      "Injecting source at x, y =  664.597295424315 2416.5295704038226\n",
      "Injecting source at x, y =  966.7709811788854 2466.559488375069\n",
      "Injecting source at x, y =  893.2679467435407 2139.0034138823894\n",
      "Injecting source at x, y =  342.46733547441 2156.1984838549333\n",
      "Injecting source at x, y =  1091.0120770194476 1973.6477262582164\n",
      "Injecting source at x, y =  1240.759566953508 1757.480070883698\n",
      "Injecting source at x, y =  516.1960159760574 1707.405218308418\n",
      "Injecting source at x, y =  664.0691758883497 1768.1207856482454\n",
      "Injecting source at x, y =  1104.6027766379798 1889.3516275173442\n",
      "Injecting source at x, y =  1300.6457306177354 2539.502510146568\n",
      "Injecting source at x, y =  1153.4758558367284 1803.555864664725\n",
      "Injecting source at x, y =  856.0484140277747 1601.1672643474622\n",
      "Injecting source at x, y =  836.9065806684605 1928.8189072898858\n",
      "Injecting source at x, y =  755.2829132248823 2137.3564786095267\n",
      "Injecting source at x, y =  836.4007868240442 1810.4872272889527\n"
     ]
    }
   ],
   "source": [
    "calexp_orig_u, calexp_new_u = addFakeStars(fake_ras, fake_decs, fake_umags, uref)\n",
    "calexp_orig_g, calexp_new_g = addFakeStars(fake_ras, fake_decs, fake_gmags, gref)\n",
    "calexp_orig_r, calexp_new_r = addFakeStars(fake_ras, fake_decs, fake_rmags, rref)\n",
    "calexp_orig_i, calexp_new_i = addFakeStars(fake_ras, fake_decs, fake_imags, iref)"
   ]
  },
  {
   "cell_type": "markdown",
   "id": "a05a2147-24d6-42f1-82bd-5ef64c55d452",
   "metadata": {
    "tags": []
   },
   "source": [
    "### Wrap all of the detection and measurement steps in a function.\n",
    "\n",
    "The steps here follow the <a href=\"https://github.com/rubin-dp0/tutorial-notebooks/blob/main/05_Intro_to_Source_Detection.ipynb\">Intro to Source Detection</a> tutorial notebook, so rather than explain them in detail here, we simply wrap all the steps in a single function that can be executed for each image."
   ]
  },
  {
   "cell_type": "code",
   "execution_count": 1,
   "id": "0dd528c4-80e3-404f-b277-1d7c5f6d2065",
   "metadata": {
    "execution": {
     "iopub.execute_input": "2023-10-03T17:00:01.809906Z",
     "iopub.status.busy": "2023-10-03T17:00:01.809557Z",
     "iopub.status.idle": "2023-10-03T17:00:01.816713Z",
     "shell.execute_reply": "2023-10-03T17:00:01.816014Z",
     "shell.execute_reply.started": "2023-10-03T17:00:01.809877Z"
    },
    "tags": []
   },
   "outputs": [],
   "source": [
    "def processFakes(calexp_inp):\n",
    "    \n",
    "    # Create a basic schema to use with these tasks\n",
    "    schema = afwTable.SourceTable.makeMinimalSchema()\n",
    "\n",
    "    # Create a container which will be used to record metadata about algorithm execution\n",
    "    algMetadata = dafBase.PropertyList()\n",
    "\n",
    "    # Initialize CharacterizeImageTask and its configuration:\n",
    "    config = CharacterizeImageTask.ConfigClass()\n",
    "    config.psfIterations = 1\n",
    "    charImageTask = CharacterizeImageTask(None, config=config)\n",
    "\n",
    "    # Initialize SourceDetectionTask and its configuration:\n",
    "    config = SourceDetectionTask.ConfigClass()\n",
    "    config.thresholdValue = 10      # detection threshold in units of thresholdType\n",
    "    config.thresholdType = \"stdev\"   # units for thresholdValue\n",
    "    sourceDetectionTask = SourceDetectionTask(schema=schema, config=config)\n",
    "    sourceDeblendTask = SourceDeblendTask(schema=schema)\n",
    "\n",
    "    # Initialize SingleFrameMeasurementTask and its configuration:\n",
    "    config = SingleFrameMeasurementTask.ConfigClass()\n",
    "    sourceMeasurementTask = SingleFrameMeasurementTask(schema=schema, config=config, algMetadata=algMetadata)\n",
    "\n",
    "    # Make an empty table that we'll put the results in:\n",
    "    tab = afwTable.SourceTable.make(schema)\n",
    "    \n",
    "    # Image characterization\n",
    "    result = charImageTask.run(calexp_inp)\n",
    "\n",
    "    # Get the PSF and some image properties\n",
    "    psf = calexp_inp.getPsf()\n",
    "    sigma = psf.computeShape().getDeterminantRadius()\n",
    "    pixelScale = calexp_inp.getWcs().getPixelScale().asArcseconds()\n",
    "\n",
    "    # The factor of 2.355 converts from std to fwhm\n",
    "    print('psf fwhm = {:.2f} arcsec'.format(sigma*pixelScale*2.355))\n",
    "    \n",
    "    # Run source detection\n",
    "    result = sourceDetectionTask.run(tab, calexp_inp)\n",
    "    \n",
    "    sources = result.sources\n",
    "    \n",
    "    # Run source deblending\n",
    "    sourceDeblendTask.run(calexp_inp, sources)\n",
    "\n",
    "    # Run source measurement\n",
    "    sourceMeasurementTask.run(measCat=sources, exposure=calexp_inp)\n",
    "\n",
    "    # The copy makes sure that the sources are sequential in memory\n",
    "    sources = sources.copy(True)\n",
    "    \n",
    "    # For convenience, return an Astropy table:\n",
    "    source_tab = sources.asAstropy()\n",
    "    \n",
    "    # Convert fluxes to magnitudes and add them to the table\n",
    "    photocalib = calexp_inp.getPhotoCalib()\n",
    "    psfmags = photocalib.instFluxToMagnitude(sources, 'base_PsfFlux')\n",
    "    source_tab.add_columns([psfmags[:,0], psfmags[:,1]], names=['mag_psf', 'magerr_psf'])\n",
    "    \n",
    "    return(source_tab)"
   ]
  },
  {
   "cell_type": "markdown",
   "id": "c1fd9490-5b58-4799-9987-785583ab97c4",
   "metadata": {
    "tags": []
   },
   "source": [
    "### Run the \"processFakes\" function on each image that we injected fake stars into\n",
    "\n",
    "**This may take at least a couple minutes to run**"
   ]
  },
  {
   "cell_type": "code",
   "execution_count": 2,
   "id": "cee54085-8f58-4ecc-bb17-67ae4016ac67",
   "metadata": {
    "execution": {
     "iopub.execute_input": "2023-10-03T17:00:04.350727Z",
     "iopub.status.busy": "2023-10-03T17:00:04.350415Z",
     "iopub.status.idle": "2023-10-03T17:00:04.648224Z",
     "shell.execute_reply": "2023-10-03T17:00:04.647196Z",
     "shell.execute_reply.started": "2023-10-03T17:00:04.350695Z"
    },
    "tags": []
   },
   "outputs": [
    {
     "ename": "NameError",
     "evalue": "name 'time' is not defined",
     "output_type": "error",
     "traceback": [
      "\u001b[0;31m---------------------------------------------------------------------------\u001b[0m",
      "\u001b[0;31mNameError\u001b[0m                                 Traceback (most recent call last)",
      "Cell \u001b[0;32mIn[2], line 1\u001b[0m\n\u001b[0;32m----> 1\u001b[0m t1 \u001b[38;5;241m=\u001b[39m \u001b[43mtime\u001b[49m\u001b[38;5;241m.\u001b[39mtime()\n\u001b[1;32m      3\u001b[0m sources_withfakes_u \u001b[38;5;241m=\u001b[39m processFakes(calexp_new_u)\n\u001b[1;32m      4\u001b[0m sources_withfakes_g \u001b[38;5;241m=\u001b[39m processFakes(calexp_new_g)\n",
      "\u001b[0;31mNameError\u001b[0m: name 'time' is not defined"
     ]
    }
   ],
   "source": [
    "t1 = time.time()\n",
    "\n",
    "sources_withfakes_u = processFakes(calexp_new_u)\n",
    "sources_withfakes_g = processFakes(calexp_new_g)\n",
    "sources_withfakes_r = processFakes(calexp_new_r)\n",
    "sources_withfakes_i = processFakes(calexp_new_i)\n",
    "\n",
    "t2 = time.time()\n",
    "print('dt', t2 - t1)"
   ]
  },
  {
   "cell_type": "code",
   "execution_count": 3,
   "id": "a6b88d6c-d908-4a5f-96ee-64be2d9bbf3c",
   "metadata": {
    "execution": {
     "iopub.execute_input": "2023-10-03T17:00:06.658216Z",
     "iopub.status.busy": "2023-10-03T17:00:06.657826Z",
     "iopub.status.idle": "2023-10-03T17:00:06.680286Z",
     "shell.execute_reply": "2023-10-03T17:00:06.679316Z",
     "shell.execute_reply.started": "2023-10-03T17:00:06.658186Z"
    },
    "tags": []
   },
   "outputs": [
    {
     "ename": "NameError",
     "evalue": "name 'sources_withfakes_i' is not defined",
     "output_type": "error",
     "traceback": [
      "\u001b[0;31m---------------------------------------------------------------------------\u001b[0m",
      "\u001b[0;31mNameError\u001b[0m                                 Traceback (most recent call last)",
      "Cell \u001b[0;32mIn[3], line 3\u001b[0m\n\u001b[1;32m      1\u001b[0m \u001b[38;5;66;03m# Take a look at the catalog:\u001b[39;00m\n\u001b[0;32m----> 3\u001b[0m \u001b[43msources_withfakes_i\u001b[49m\n",
      "\u001b[0;31mNameError\u001b[0m: name 'sources_withfakes_i' is not defined"
     ]
    }
   ],
   "source": [
    "# Take a look at the catalog:\n",
    "\n",
    "sources_withfakes_i"
   ]
  },
  {
   "cell_type": "markdown",
   "id": "342f9835-4e2f-4759-8a6d-ad331c339f2d",
   "metadata": {},
   "source": [
    "### Match coordinates from the original list of fake stars to the new catalog:"
   ]
  },
  {
   "cell_type": "code",
   "execution_count": 4,
   "id": "905764b9-0ed9-4975-a4a7-b40511acb0a1",
   "metadata": {
    "execution": {
     "iopub.execute_input": "2023-10-03T17:00:08.942447Z",
     "iopub.status.busy": "2023-10-03T17:00:08.941651Z",
     "iopub.status.idle": "2023-10-03T17:00:08.964846Z",
     "shell.execute_reply": "2023-10-03T17:00:08.964096Z",
     "shell.execute_reply.started": "2023-10-03T17:00:08.942413Z"
    },
    "tags": []
   },
   "outputs": [
    {
     "ename": "NameError",
     "evalue": "name 'SkyCoord' is not defined",
     "output_type": "error",
     "traceback": [
      "\u001b[0;31m---------------------------------------------------------------------------\u001b[0m",
      "\u001b[0;31mNameError\u001b[0m                                 Traceback (most recent call last)",
      "Cell \u001b[0;32mIn[4], line 2\u001b[0m\n\u001b[1;32m      1\u001b[0m \u001b[38;5;66;03m# Coordinates of input fake stars\u001b[39;00m\n\u001b[0;32m----> 2\u001b[0m sc_fakes \u001b[38;5;241m=\u001b[39m \u001b[43mSkyCoord\u001b[49m(ra\u001b[38;5;241m=\u001b[39mfake_ras\u001b[38;5;241m*\u001b[39mu\u001b[38;5;241m.\u001b[39mdeg, dec\u001b[38;5;241m=\u001b[39mfake_decs\u001b[38;5;241m*\u001b[39mu\u001b[38;5;241m.\u001b[39mdeg, frame\u001b[38;5;241m=\u001b[39m\u001b[38;5;124m'\u001b[39m\u001b[38;5;124micrs\u001b[39m\u001b[38;5;124m'\u001b[39m)\n\u001b[1;32m      4\u001b[0m \u001b[38;5;66;03m# Coordinates of objects in calexps with fakes added:\u001b[39;00m\n\u001b[1;32m      5\u001b[0m sc_withfakes_u \u001b[38;5;241m=\u001b[39m SkyCoord(ra\u001b[38;5;241m=\u001b[39msources_withfakes_u[\u001b[38;5;124m'\u001b[39m\u001b[38;5;124mcoord_ra\u001b[39m\u001b[38;5;124m'\u001b[39m], dec\u001b[38;5;241m=\u001b[39msources_withfakes_u[\u001b[38;5;124m'\u001b[39m\u001b[38;5;124mcoord_dec\u001b[39m\u001b[38;5;124m'\u001b[39m], frame\u001b[38;5;241m=\u001b[39m\u001b[38;5;124m'\u001b[39m\u001b[38;5;124micrs\u001b[39m\u001b[38;5;124m'\u001b[39m)\n",
      "\u001b[0;31mNameError\u001b[0m: name 'SkyCoord' is not defined"
     ]
    }
   ],
   "source": [
    "# Coordinates of input fake stars\n",
    "sc_fakes = SkyCoord(ra=fake_ras*u.deg, dec=fake_decs*u.deg, frame='icrs')\n",
    "\n",
    "# Coordinates of objects in calexps with fakes added:\n",
    "sc_withfakes_u = SkyCoord(ra=sources_withfakes_u['coord_ra'], dec=sources_withfakes_u['coord_dec'], frame='icrs')\n",
    "sc_withfakes_g = SkyCoord(ra=sources_withfakes_g['coord_ra'], dec=sources_withfakes_g['coord_dec'], frame='icrs')\n",
    "sc_withfakes_r = SkyCoord(ra=sources_withfakes_r['coord_ra'], dec=sources_withfakes_r['coord_dec'], frame='icrs')\n",
    "sc_withfakes_i = SkyCoord(ra=sources_withfakes_i['coord_ra'], dec=sources_withfakes_i['coord_dec'], frame='icrs')\n",
    "# Note that units weren't required for sc_withfakes_*, because it already has them."
   ]
  },
  {
   "cell_type": "code",
   "execution_count": 5,
   "id": "5272b12a-794e-4973-9875-16c93fbb0d3a",
   "metadata": {
    "execution": {
     "iopub.execute_input": "2023-10-03T17:00:09.488198Z",
     "iopub.status.busy": "2023-10-03T17:00:09.487452Z",
     "iopub.status.idle": "2023-10-03T17:00:09.511244Z",
     "shell.execute_reply": "2023-10-03T17:00:09.510489Z",
     "shell.execute_reply.started": "2023-10-03T17:00:09.488172Z"
    },
    "tags": []
   },
   "outputs": [
    {
     "ename": "NameError",
     "evalue": "name 'plt' is not defined",
     "output_type": "error",
     "traceback": [
      "\u001b[0;31m---------------------------------------------------------------------------\u001b[0m",
      "\u001b[0;31mNameError\u001b[0m                                 Traceback (most recent call last)",
      "Cell \u001b[0;32mIn[5], line 1\u001b[0m\n\u001b[0;32m----> 1\u001b[0m fig, ax \u001b[38;5;241m=\u001b[39m \u001b[43mplt\u001b[49m\u001b[38;5;241m.\u001b[39msubplots(\u001b[38;5;241m1\u001b[39m, \u001b[38;5;241m1\u001b[39m)\n\u001b[1;32m      2\u001b[0m plt\u001b[38;5;241m.\u001b[39mplot(sc_withfakes_g\u001b[38;5;241m.\u001b[39mra, sc_withfakes_g\u001b[38;5;241m.\u001b[39mdec, \u001b[38;5;124m'\u001b[39m\u001b[38;5;124m.k\u001b[39m\u001b[38;5;124m'\u001b[39m, label\u001b[38;5;241m=\u001b[39m\u001b[38;5;124m'\u001b[39m\u001b[38;5;124mdetected sources\u001b[39m\u001b[38;5;124m'\u001b[39m)\n\u001b[1;32m      3\u001b[0m plt\u001b[38;5;241m.\u001b[39mplot(sc_fakes\u001b[38;5;241m.\u001b[39mra, sc_fakes\u001b[38;5;241m.\u001b[39mdec, \u001b[38;5;124m'\u001b[39m\u001b[38;5;124msr\u001b[39m\u001b[38;5;124m'\u001b[39m, fillstyle\u001b[38;5;241m=\u001b[39m\u001b[38;5;124m'\u001b[39m\u001b[38;5;124mnone\u001b[39m\u001b[38;5;124m'\u001b[39m, label\u001b[38;5;241m=\u001b[39m\u001b[38;5;124m'\u001b[39m\u001b[38;5;124mfake sources\u001b[39m\u001b[38;5;124m'\u001b[39m)\n",
      "\u001b[0;31mNameError\u001b[0m: name 'plt' is not defined"
     ]
    }
   ],
   "source": [
    "fig, ax = plt.subplots(1, 1)\n",
    "plt.plot(sc_withfakes_g.ra, sc_withfakes_g.dec, '.k', label='detected sources')\n",
    "plt.plot(sc_fakes.ra, sc_fakes.dec, 'sr', fillstyle='none', label='fake sources')\n",
    "ax.invert_xaxis()\n",
    "plt.legend()\n",
    "plt.xlabel('RA (deg)')\n",
    "plt.ylabel('Dec (deg)')\n",
    "plt.show()"
   ]
  },
  {
   "cell_type": "code",
   "execution_count": 6,
   "id": "0b89df62-46fb-493d-8b09-c1eee98980d3",
   "metadata": {
    "execution": {
     "iopub.execute_input": "2023-10-03T17:00:09.892740Z",
     "iopub.status.busy": "2023-10-03T17:00:09.892386Z",
     "iopub.status.idle": "2023-10-03T17:00:09.911558Z",
     "shell.execute_reply": "2023-10-03T17:00:09.910754Z",
     "shell.execute_reply.started": "2023-10-03T17:00:09.892706Z"
    },
    "tags": []
   },
   "outputs": [
    {
     "ename": "NameError",
     "evalue": "name 'sc_fakes' is not defined",
     "output_type": "error",
     "traceback": [
      "\u001b[0;31m---------------------------------------------------------------------------\u001b[0m",
      "\u001b[0;31mNameError\u001b[0m                                 Traceback (most recent call last)",
      "Cell \u001b[0;32mIn[6], line 3\u001b[0m\n\u001b[1;32m      1\u001b[0m \u001b[38;5;66;03m# Match them using the Astropy SkyCoord \"match_to_catalog_sky\" method:\u001b[39;00m\n\u001b[0;32m----> 3\u001b[0m idx_u, sep_u, _ \u001b[38;5;241m=\u001b[39m \u001b[43msc_fakes\u001b[49m\u001b[38;5;241m.\u001b[39mmatch_to_catalog_sky(sc_withfakes_u)\n\u001b[1;32m      4\u001b[0m idx_g, sep_g, _ \u001b[38;5;241m=\u001b[39m sc_fakes\u001b[38;5;241m.\u001b[39mmatch_to_catalog_sky(sc_withfakes_g)\n\u001b[1;32m      5\u001b[0m idx_r, sep_r, _ \u001b[38;5;241m=\u001b[39m sc_fakes\u001b[38;5;241m.\u001b[39mmatch_to_catalog_sky(sc_withfakes_r)\n",
      "\u001b[0;31mNameError\u001b[0m: name 'sc_fakes' is not defined"
     ]
    }
   ],
   "source": [
    "# Match them using the Astropy SkyCoord \"match_to_catalog_sky\" method:\n",
    "\n",
    "idx_u, sep_u, _ = sc_fakes.match_to_catalog_sky(sc_withfakes_u)\n",
    "idx_g, sep_g, _ = sc_fakes.match_to_catalog_sky(sc_withfakes_g)\n",
    "idx_r, sep_r, _ = sc_fakes.match_to_catalog_sky(sc_withfakes_r)\n",
    "idx_i, sep_i, _ = sc_fakes.match_to_catalog_sky(sc_withfakes_i)"
   ]
  },
  {
   "cell_type": "markdown",
   "id": "91dbd3a2-c12e-456c-b6d8-9929bb809aa9",
   "metadata": {},
   "source": [
    "The \"idx*\" arrays are the indices into sc_withfakes* files to extract the closest match, and \"sep*\" are the actual separations between the sources. Note that this returns a separation for all objects -- in the following, we will keep only sources with match separations less than 1 arcsecond (i.e., \"good\" matches).\n",
    "\n",
    "Extract info about the good matches into arrays:"
   ]
  },
  {
   "cell_type": "code",
   "execution_count": null,
   "id": "a94319b0-0943-4099-a222-e47d8e2297a8",
   "metadata": {},
   "outputs": [],
   "source": [
    "okmch_u = (sep_u.arcsec < 1.0)\n",
    "mch_mags_u = sources_withfakes_u[idx_u]['mag_psf']\n",
    "mch_magerrs_u = sources_withfakes_u[idx_u]['magerr_psf']\n",
    "# If the nearest match is >1\" away, set its magnitudes to -99.9:\n",
    "mch_mags_u[~okmch_u] = -99.9\n",
    "mch_magerrs_u[~okmch_u] = 99.9\n",
    "seps_u = sep_u.arcsec\n",
    "\n",
    "okmch_g = (sep_g.arcsec < 1.0)\n",
    "mch_mags_g = sources_withfakes_g[idx_g]['mag_psf']\n",
    "mch_magerrs_g = sources_withfakes_g[idx_g]['magerr_psf']\n",
    "mch_mags_g[~okmch_g] = -99.9\n",
    "mch_magerrs_g[~okmch_g] = 99.9\n",
    "seps_g = sep_g.arcsec\n",
    "\n",
    "okmch_r = (sep_r.arcsec < 1.0)\n",
    "mch_mags_r = sources_withfakes_r[idx_r]['mag_psf']\n",
    "mch_magerrs_r = sources_withfakes_r[idx_r]['magerr_psf']\n",
    "mch_mags_r[~okmch_r] = -99.9\n",
    "mch_magerrs_r[~okmch_r] = 99.9\n",
    "seps_r = sep_r.arcsec\n",
    "\n",
    "okmch_i = (sep_i.arcsec < 1.0)\n",
    "mch_mags_i = sources_withfakes_i[idx_i]['mag_psf']\n",
    "mch_magerrs_i = sources_withfakes_i[idx_i]['magerr_psf']\n",
    "mch_mags_i[~okmch_i] = -99.9\n",
    "mch_magerrs_i[~okmch_i] = 99.9\n",
    "seps_i = sep_i.arcsec\n",
    "\n",
    "#print(fake_imags[okmch], sources_withfakes_i[idx_i[okmch]]['mag_psf'])"
   ]
  },
  {
   "cell_type": "code",
   "execution_count": null,
   "id": "94695591-aff0-4688-b7fd-5e5e9303fe4c",
   "metadata": {},
   "outputs": [],
   "source": [
    "# sep_g.arcsec"
   ]
  },
  {
   "cell_type": "markdown",
   "id": "e023c05a-6b9f-4bea-8a0b-d83190d24fa0",
   "metadata": {},
   "source": [
    "Combine all of the information into a single table:"
   ]
  },
  {
   "cell_type": "code",
   "execution_count": null,
   "id": "d77edcf9-0c9e-4434-b8b7-c0de6352fa03",
   "metadata": {},
   "outputs": [],
   "source": [
    "tab_all = Table([fake_ras, fake_decs, fake_umags, fake_gmags, fake_rmags, fake_imags,\n",
    "                 mch_mags_u, mch_magerrs_u, seps_u, mch_mags_g, mch_magerrs_g, seps_g,\n",
    "                 mch_mags_r, mch_magerrs_r, seps_r, mch_mags_i, mch_magerrs_i, seps_i],\n",
    "                 names=['ra', 'dec', 'u_fake', 'g_fake', 'r_fake', 'i_fake', 'u_meas', 'uerr_meas', 'sep_u',\n",
    "                        'g_meas', 'gerr_meas', 'sep_g', 'r_meas', 'rerr_meas', 'sep_r',\n",
    "                        'i_meas', 'ierr_meas', 'sep_i'],\n",
    "                 units=[u.deg, u.deg, u.mag, u.mag, u.mag, u.mag, u.mag, u.mag, u.arcsec,\n",
    "                        u.mag, u.mag, u.arcsec, u.mag, u.mag, u.arcsec, u.mag, u.mag, u.arcsec])\n",
    "\n",
    "for col in tab_all.colnames[0:2]:\n",
    "    tab_all[col].info.format = '%.8g'  # for consistent table output\n",
    "for col in tab_all.colnames[2:]:\n",
    "    tab_all[col].info.format = '%.5g'  # for consistent table output\n"
   ]
  },
  {
   "cell_type": "code",
   "execution_count": null,
   "id": "cfd44c12-74b0-4eb5-b2e7-1862aa9cec4f",
   "metadata": {},
   "outputs": [],
   "source": [
    "tab_all"
   ]
  },
  {
   "cell_type": "markdown",
   "id": "3ec21cf5-5603-49da-a5c7-d4b9a0046719",
   "metadata": {},
   "source": [
    "Now we have completed all the steps of injecting fake sources, running pipeline tasks to detect and measure all sources in the resulting images, and extracting the matches from the catalogs. Let's look at the results!\n",
    "\n",
    "Compare the \"fake\" magnitudes we assigned to each star to their output (measured) magnitude:"
   ]
  },
  {
   "cell_type": "code",
   "execution_count": null,
   "id": "0e32d786-b71a-4323-afca-4b9f77ddccb0",
   "metadata": {},
   "outputs": [],
   "source": [
    "fig = plt.plot(figsize=(9, 9))\n",
    "\n",
    "plt.hlines(0, 0, 30, linestyle=':', color='Black')\n",
    "plt.plot(tab_all['u_fake'], 1000.0 * (tab_all['u_meas'] - tab_all['u_fake']),\n",
    "         'o', ms=10, color='royalblue', label='u')\n",
    "plt.plot(tab_all['g_fake'], 1000.0 * (tab_all['g_meas'] - tab_all['g_fake']),\n",
    "         'D', ms=10, color='mediumseagreen', label='g')\n",
    "plt.plot(tab_all['r_fake'], 1000.0 * (tab_all['r_meas'] - tab_all['r_fake']),\n",
    "         '*', ms=10, color='firebrick', label='r')\n",
    "plt.plot(tab_all['i_fake'], 1000.0 * (tab_all['i_meas'] - tab_all['i_fake']),\n",
    "         's', ms=10, color='indigo', label='i')\n",
    "plt.legend()\n",
    "plt.xlabel(r'$mag_{\\rm fake}$')\n",
    "plt.ylabel(r'$(mag_{\\rm meas} - mag_{\\rm fake})$ (mmag)')\n",
    "plt.xlim(15.2, 23.3)\n",
    "plt.ylim(-48, 48)\n",
    "plt.minorticks_on()\n",
    "plt.show()"
   ]
  },
  {
   "cell_type": "markdown",
   "id": "d1a5512f-a74c-497b-8624-ed904505ca65",
   "metadata": {},
   "source": [
    "Looks good! (Note that the y-axis is showing residuals in _millimags_.)"
   ]
  },
  {
   "cell_type": "code",
   "execution_count": null,
   "id": "dba6a7f9-a07e-49a1-903c-b3324589f93a",
   "metadata": {},
   "outputs": [],
   "source": [
    "fig, ax = plt.subplots(1, 2, figsize=(14, 7))\n",
    "plt.sca(ax[0])  # set the first axis as current\n",
    "display1 = afwDisplay.Display(frame=fig)\n",
    "display1.scale('linear', 'zscale')\n",
    "display1.mtv(calexp_orig_g.image)\n",
    "plt.title('original image')\n",
    "#plt.xlim(1000, 2500)\n",
    "#plt.ylim(300, 1800)\n",
    "plt.sca(ax[1])  # set the second axis as current\n",
    "display2 = afwDisplay.Display(frame=fig)\n",
    "display2.scale('linear', 'zscale')\n",
    "display2.mtv(calexp_new_g.image)\n",
    "# display2.mtv(image0)\n",
    "plt.title('with fake stars')\n",
    "#plt.xlim(1000, 2500)\n",
    "#plt.ylim(300, 1800)\n",
    "plt.tight_layout()\n",
    "plt.show()"
   ]
  },
  {
   "cell_type": "markdown",
   "id": "24f35eb2-054c-4186-99a8-a35e95e4a277",
   "metadata": {},
   "source": [
    "Ideas for further exploration:\n",
    "\n",
    "- Inject stars using a realistic stellar population (i.e., get colors and a luminosity function from isochrones).\n",
    "- Inject galaxies or other objects.\n",
    "- Inject periodic variables into a set of overlapping visit images (using their time of observation to determine the input phase, and thus magnitude, for each image).\n",
    "- Test completeness of detection/measurement (will need to inject stars over a variety of magnitudes and colors, and probably many times over to build up a large enough statistical sample).\n"
   ]
  }
 ],
 "metadata": {
  "kernelspec": {
   "display_name": "LSST",
   "language": "python",
   "name": "lsst"
  },
  "language_info": {
   "codemirror_mode": {
    "name": "ipython",
    "version": 3
   },
   "file_extension": ".py",
   "mimetype": "text/x-python",
   "name": "python",
   "nbconvert_exporter": "python",
   "pygments_lexer": "ipython3",
   "version": "3.11.4"
  }
 },
 "nbformat": 4,
 "nbformat_minor": 5
}
