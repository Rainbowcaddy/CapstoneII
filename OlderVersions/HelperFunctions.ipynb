{
 "cells": [
  {
   "cell_type": "markdown",
   "id": "bb56fa78-587d-4c87-9a66-28145b61e2a4",
   "metadata": {
    "execution": {
     "iopub.execute_input": "2023-09-19T03:04:50.333934Z",
     "iopub.status.busy": "2023-09-19T03:04:50.333086Z",
     "iopub.status.idle": "2023-09-19T03:04:50.769577Z",
     "shell.execute_reply": "2023-09-19T03:04:50.768659Z",
     "shell.execute_reply.started": "2023-09-19T03:04:50.333902Z"
    },
    "tags": []
   },
   "source": [
    "### This will delete all the fits images in a directory"
   ]
  },
  {
   "cell_type": "code",
   "execution_count": 2,
   "id": "8f193ce3-1a96-4693-bdc1-e3bf3898733a",
   "metadata": {
    "execution": {
     "iopub.execute_input": "2023-11-27T15:01:06.159736Z",
     "iopub.status.busy": "2023-11-27T15:01:06.159075Z",
     "iopub.status.idle": "2023-11-27T15:01:06.598284Z",
     "shell.execute_reply": "2023-11-27T15:01:06.597566Z",
     "shell.execute_reply.started": "2023-11-27T15:01:06.159709Z"
    },
    "tags": []
   },
   "outputs": [
    {
     "name": "stdout",
     "output_type": "stream",
     "text": [
      "All FITS images in 'generated_images' folder have been deleted.\n"
     ]
    }
   ],
   "source": [
    "import os\n",
    "\n",
    "# Folder containing the generated images\n",
    "output_folder = \"ImageLargeScale\"\n",
    "\n",
    "# List all files in the output folder\n",
    "files_in_output_folder = os.listdir(output_folder)\n",
    "\n",
    "# Filter the list to keep only FITS files\n",
    "fits_files = [file for file in files_in_output_folder if file.lower().endswith('.fits')]\n",
    "\n",
    "# Delete each FITS file\n",
    "for fits_file in fits_files:\n",
    "    file_path = os.path.join(output_folder, fits_file)\n",
    "    os.remove(file_path)\n",
    "\n",
    "print(\"All FITS images in 'generated_images' folder have been deleted.\")\n"
   ]
  },
  {
   "cell_type": "markdown",
   "id": "96dc522a-fae9-4b56-bef9-ef3b8dece872",
   "metadata": {
    "tags": []
   },
   "source": [
    "### This will zip all the fits images in a directory"
   ]
  },
  {
   "cell_type": "code",
   "execution_count": null,
   "id": "3e0b818c-247f-4a69-8087-588fe003e41d",
   "metadata": {
    "tags": []
   },
   "outputs": [],
   "source": [
    "import shutil\n",
    "\n",
    "def zip_files(directory, zip_name):\n",
    "    shutil.make_archive(zip_name, 'zip', directory)\n",
    "\n",
    "zip_name = 'ImageSmallScale'\n",
    "zip_files(output_folder, zip_name)\n",
    "\n",
    "print(f\"{zip_name}.zip file created with all generated images.\")\n"
   ]
  },
  {
   "cell_type": "markdown",
   "id": "c5200b2d-8c62-4cf1-bcee-0455f712de9f",
   "metadata": {
    "jp-MarkdownHeadingCollapsed": true,
    "tags": []
   },
   "source": [
    "### Generates a movies of all the images in the generated_images directory"
   ]
  },
  {
   "cell_type": "code",
   "execution_count": 12,
   "id": "7754ba85-4d60-4732-94fd-cf06fa9be5f0",
   "metadata": {
    "execution": {
     "iopub.execute_input": "2023-09-20T03:05:22.631368Z",
     "iopub.status.busy": "2023-09-20T03:05:22.630321Z",
     "iopub.status.idle": "2023-09-20T03:05:46.602107Z",
     "shell.execute_reply": "2023-09-20T03:05:46.591552Z",
     "shell.execute_reply.started": "2023-09-20T03:05:22.631322Z"
    },
    "tags": []
   },
   "outputs": [
    {
     "data": {
      "text/plain": [
       "<Figure size 640x480 with 0 Axes>"
      ]
     },
     "metadata": {},
     "output_type": "display_data"
    }
   ],
   "source": [
    "import os\n",
    "import time\n",
    "from astropy.io import fits\n",
    "import matplotlib.pyplot as plt\n",
    "from IPython.display import display, clear_output\n",
    "\n",
    "# Define the directory where the images are stored\n",
    "image_directory = \"generated_images\"\n",
    "\n",
    "# Get a list of all .fits files in the directory\n",
    "fits_files = [f for f in os.listdir(image_directory) if f.endswith('.fits')]\n",
    "\n",
    "# Sort the files based on their creation time\n",
    "fits_files.sort(key=lambda x: os.path.getctime(os.path.join(image_directory, x)))\n",
    "\n",
    "# Loop through the sorted list of .fits files and display them\n",
    "for fits_file in fits_files:\n",
    "    full_path = os.path.join(image_directory, fits_file)\n",
    "    \n",
    "    # Read the .fits file\n",
    "    with fits.open(full_path) as hdul:\n",
    "        data = hdul[0].data\n",
    "    \n",
    "    # Display the image using matplotlib\n",
    "    plt.imshow(data, cmap='gray')\n",
    "    plt.title(fits_file)\n",
    "    #plt.colorbar()\n",
    "    \n",
    "    # Show the plot\n",
    "    display(plt.gcf())\n",
    "    \n",
    "    # Pause for 1 second\n",
    "    #time.sleep(1)\n",
    "    \n",
    "    # Clear the output and plot\n",
    "    clear_output(wait=True)\n",
    "    plt.clf()\n"
   ]
  },
  {
   "cell_type": "code",
   "execution_count": null,
   "id": "a8275791-e95c-4839-a5dc-f5cf4595cb13",
   "metadata": {},
   "outputs": [],
   "source": []
  }
 ],
 "metadata": {
  "kernelspec": {
   "display_name": "LSST",
   "language": "python",
   "name": "lsst"
  },
  "language_info": {
   "codemirror_mode": {
    "name": "ipython",
    "version": 3
   },
   "file_extension": ".py",
   "mimetype": "text/x-python",
   "name": "python",
   "nbconvert_exporter": "python",
   "pygments_lexer": "ipython3",
   "version": "3.11.4"
  }
 },
 "nbformat": 4,
 "nbformat_minor": 5
}
